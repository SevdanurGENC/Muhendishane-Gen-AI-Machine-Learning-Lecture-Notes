{
  "nbformat": 4,
  "nbformat_minor": 0,
  "metadata": {
    "colab": {
      "provenance": []
    },
    "kernelspec": {
      "name": "python3",
      "display_name": "Python 3"
    },
    "language_info": {
      "name": "python"
    }
  },
  "cells": [
    {
      "cell_type": "code",
      "execution_count": 1,
      "metadata": {
        "id": "mPhwMZTXSjx9"
      },
      "outputs": [],
      "source": [
        "import numpy as np\n",
        "import pandas as pd\n",
        "from sklearn.model_selection import train_test_split"
      ]
    },
    {
      "cell_type": "code",
      "source": [
        "# input bağımsız değişkenler\n",
        "inputs = np.array([1,2,3,4,5,6,7,8,9,10])\n",
        "\n",
        "# Target - bağımlı değişken\n",
        "target = np.array([4, 10, 15, 20, 25, 30, 35, 40, 45, 50])\n",
        "\n",
        "# Değişkenlerin DataFrame üzerinde görüntülenmesi\n",
        "df = pd.DataFrame({\"x\":inputs,\"Target\":target})\n",
        "print(df)"
      ],
      "metadata": {
        "colab": {
          "base_uri": "https://localhost:8080/"
        },
        "id": "2RLy0PKHSpan",
        "outputId": "d3702e50-e428-4011-d192-029c0ef59ce0"
      },
      "execution_count": 2,
      "outputs": [
        {
          "output_type": "stream",
          "name": "stdout",
          "text": [
            "    x  Target\n",
            "0   1       4\n",
            "1   2      10\n",
            "2   3      15\n",
            "3   4      20\n",
            "4   5      25\n",
            "5   6      30\n",
            "6   7      35\n",
            "7   8      40\n",
            "8   9      45\n",
            "9  10      50\n"
          ]
        }
      ]
    },
    {
      "cell_type": "code",
      "source": [
        "# Sklarn üzerinden değişkenlerin ayrıştırılarak bölünmesi\n",
        "# X input değişkenler Y ise hedef değişken ayrıştırılarak\n",
        "# fonksiyona dahil ediliyor.\n",
        "x = df.x\n",
        "y = df.Target\n",
        "\n",
        "# Veri seti öncelikle train ve test olarak ikiye ayrılıyor\n",
        "x_train, x_test, y_train, y_test = train_test_split(x, # bağımsız değişkenler\n",
        "                                                    y, # target değişken\n",
        "                                                    test_size = 0.2, # test için ayrılan küme yüzdesi\n",
        "                                                    shuffle = False, # Satırları dikey yönlü karıştırır\n",
        "                                                    random_state = None)\n",
        "\n",
        "# Train veri seti kendi içinden (%25) validation bölümünü ayırıyor\n",
        "x_train, x_val, y_train, y_val = train_test_split(x_train, y_train,\n",
        "                                                  test_size = 0.25,\n",
        "                                                  shuffle = False)"
      ],
      "metadata": {
        "id": "W-mijomySpdA"
      },
      "execution_count": 3,
      "outputs": []
    },
    {
      "cell_type": "code",
      "source": [
        "# tüm veri setleri\n",
        "all = {\"x train\" : x_train,\n",
        "       \"x validation\" : x_val,\n",
        "       \"x test\" : x_test,\n",
        "       \"y train\" : y_train,\n",
        "       \"y validation\": y_val,\n",
        "       \"y test\": y_test}\n",
        "\n",
        "# Oluşan veri setlerinin özellikleri\n",
        "for i in all:\n",
        "    print(f\"{i} satır sayısı: {len(all.get(i))}\")"
      ],
      "metadata": {
        "colab": {
          "base_uri": "https://localhost:8080/"
        },
        "id": "vS2w7ZA4Spfi",
        "outputId": "f1971d34-d2cf-4146-f3e4-b8558a85e5b6"
      },
      "execution_count": 5,
      "outputs": [
        {
          "output_type": "stream",
          "name": "stdout",
          "text": [
            "x train satır sayısı: 6\n",
            "x validation satır sayısı: 2\n",
            "x test satır sayısı: 2\n",
            "y train satır sayısı: 6\n",
            "y validation satır sayısı: 2\n",
            "y test satır sayısı: 2\n"
          ]
        }
      ]
    }
  ]
}